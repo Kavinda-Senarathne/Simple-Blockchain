{
  "nbformat": 4,
  "nbformat_minor": 0,
  "metadata": {
    "colab": {
      "name": "SimpleBlockchain.ipynb",
      "provenance": [],
      "collapsed_sections": [],
      "include_colab_link": true
    },
    "kernelspec": {
      "name": "python3",
      "display_name": "Python 3"
    }
  },
  "cells": [
    {
      "cell_type": "markdown",
      "metadata": {
        "id": "view-in-github",
        "colab_type": "text"
      },
      "source": [
        "<a href=\"https://colab.research.google.com/github/Kavinda-Senarathne/Simple-Blockchain/blob/master/SimpleBlockchain.ipynb\" target=\"_parent\"><img src=\"https://colab.research.google.com/assets/colab-badge.svg\" alt=\"Open In Colab\"/></a>"
      ]
    },
    {
      "cell_type": "code",
      "metadata": {
        "id": "e4cDRMuuoVLM",
        "colab_type": "code",
        "colab": {}
      },
      "source": [
        "import datetime\n",
        "import hashlib"
      ],
      "execution_count": 0,
      "outputs": []
    },
    {
      "cell_type": "code",
      "metadata": {
        "id": "GMf7AXT0o3d7",
        "colab_type": "code",
        "colab": {}
      },
      "source": [
        " class Block:\n",
        "   blockNo = 0\n",
        "   data = None\n",
        "   next = None\n",
        "   hash = None\n",
        "   nonce = 0\n",
        "   previous_hash = 0x0\n",
        "   timestamp = datetime.datetime.now()\n",
        "\n",
        "   def __init__(self,data):\n",
        "     self.data = data\n",
        "\n",
        "   def hash(self):\n",
        "     h = hashlib.sha256()\n",
        "     h.update(\n",
        "      str(self.nonce).encode('utf-8')+\n",
        "      str(self.data).encode('utf-8')+\n",
        "      str(self.previous_hash).encode('utf-8')+\n",
        "      str(self.timestamp).encode('utf-8')+\n",
        "      str(self.blockNo).encode('utf-8')\n",
        "     )\n",
        "     return h.hexdigest()\n",
        "\n",
        "   def __str__(self):\n",
        "      return \"Block Hash: \" + str(self.hash())+\"\\nBlockNo: \"+ str(self.blockNo)"
      ],
      "execution_count": 0,
      "outputs": []
    },
    {
      "cell_type": "code",
      "metadata": {
        "id": "B1rC5YpysgSn",
        "colab_type": "code",
        "colab": {}
      },
      "source": [
        "class Blockchain:\n",
        "  maxNonce = 2**32\n",
        "  diff = 10\n",
        "  target = 2** (256 - diff)\n",
        "\n",
        "  block = Block(\"First Block\")\n",
        "  head = block\n",
        "\n",
        "  def add(self,block):\n",
        "     block.previos_hash = self.block.hash()\n",
        "     block.blockNo = self.block.blockNo + 1\n",
        "\n",
        "     self.block.next = block\n",
        "     self.block = self.block.next\n",
        "    \n",
        "  def mine(self,block):\n",
        "     for n in range(self.maxNonce):\n",
        "       if int(block.hash(),16) <= self.target:\n",
        "           self.add(block)\n",
        "           print(block)\n",
        "           break\n",
        "       else:\n",
        "          block.nonce += 1"
      ],
      "execution_count": 0,
      "outputs": []
    },
    {
      "cell_type": "code",
      "metadata": {
        "id": "_0PwPyJx8hQg",
        "colab_type": "code",
        "colab": {
          "base_uri": "https://localhost:8080/",
          "height": 731
        },
        "outputId": "753826ae-6461-4db0-ab8d-018c2be05d9e"
      },
      "source": [
        "blockchain = Blockchain()\n",
        "\n",
        "for n in range(10):\n",
        "    blockchain.mine(Block(\"Block\" + str(n+1)))\n",
        "\n",
        "while blockchain.head != None:\n",
        "  print(blockchain.head)\n",
        "  \n",
        "  Blockchain.head = blockchain.head.next\n"
      ],
      "execution_count": 26,
      "outputs": [
        {
          "output_type": "stream",
          "text": [
            "Block Hash: 4a1ea128ab43fd262366abcaa8ade87583b78ac5b12f5056465eb68a6242bc7f\n",
            "BlockNo: 1\n",
            "Block Hash: 3fcefefa8f0fcbd650269ca1e6220c1a442d470c5cbd43d2f739ccea7381dbc8\n",
            "BlockNo: 2\n",
            "Block Hash: ee2f72959a616b1476118c6295241d9c18298b6cb550bf3c65b47cb056d7fb85\n",
            "BlockNo: 3\n",
            "Block Hash: ba000de412a27e8bd2e2cbc02f5fab08f2d37543025b83c8ce263519a450259b\n",
            "BlockNo: 4\n",
            "Block Hash: c9e2f00a3f2c58f1d50d32ec22ff3bcdb835733c475b47420f11deed1a8d223f\n",
            "BlockNo: 5\n",
            "Block Hash: 0066f06b8885d99796782f998327d957038dd82788e385fed7e1d8302e83d22e\n",
            "BlockNo: 6\n",
            "Block Hash: 02411fa7965e13361ebde8c7a1e3312026aa91b6eb45a7c236376cdff92f644c\n",
            "BlockNo: 7\n",
            "Block Hash: 9be31ca19aa4f8d1c5b8d06c8fbd021ea7bb30c2f6e1190876ff7142c03428c1\n",
            "BlockNo: 8\n",
            "Block Hash: 90b8108b893a5e8908b537254d0f54cf7d507d12424963337b0fb40d64067de7\n",
            "BlockNo: 9\n",
            "Block Hash: b51d40fb1f93995a670d6b0b95beb09929334f89eeea753f159b9977440bca6b\n",
            "BlockNo: 10\n",
            "Block Hash: 61cddc38f4eb3efa9a622a69b68b9b531a8b527125953d855a0938c8bdf85e11\n",
            "BlockNo: 0\n",
            "Block Hash: 4a1ea128ab43fd262366abcaa8ade87583b78ac5b12f5056465eb68a6242bc7f\n",
            "BlockNo: 1\n",
            "Block Hash: 3fcefefa8f0fcbd650269ca1e6220c1a442d470c5cbd43d2f739ccea7381dbc8\n",
            "BlockNo: 2\n",
            "Block Hash: ee2f72959a616b1476118c6295241d9c18298b6cb550bf3c65b47cb056d7fb85\n",
            "BlockNo: 3\n",
            "Block Hash: ba000de412a27e8bd2e2cbc02f5fab08f2d37543025b83c8ce263519a450259b\n",
            "BlockNo: 4\n",
            "Block Hash: c9e2f00a3f2c58f1d50d32ec22ff3bcdb835733c475b47420f11deed1a8d223f\n",
            "BlockNo: 5\n",
            "Block Hash: 0066f06b8885d99796782f998327d957038dd82788e385fed7e1d8302e83d22e\n",
            "BlockNo: 6\n",
            "Block Hash: 02411fa7965e13361ebde8c7a1e3312026aa91b6eb45a7c236376cdff92f644c\n",
            "BlockNo: 7\n",
            "Block Hash: 9be31ca19aa4f8d1c5b8d06c8fbd021ea7bb30c2f6e1190876ff7142c03428c1\n",
            "BlockNo: 8\n",
            "Block Hash: 90b8108b893a5e8908b537254d0f54cf7d507d12424963337b0fb40d64067de7\n",
            "BlockNo: 9\n",
            "Block Hash: b51d40fb1f93995a670d6b0b95beb09929334f89eeea753f159b9977440bca6b\n",
            "BlockNo: 10\n"
          ],
          "name": "stdout"
        }
      ]
    }
  ]
}